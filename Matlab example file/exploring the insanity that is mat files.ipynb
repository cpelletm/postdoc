{
 "cells": [
  {
   "cell_type": "code",
   "execution_count": 126,
   "metadata": {},
   "outputs": [],
   "source": [
    "from scipy import io\n",
    "import sys\n",
    "import os\n",
    "import glob\n",
    "\n",
    "folder=os.path.abspath('')\n",
    "fileESR=folder+'/Example ESR.mat'\n",
    "filesESR1ctr=folder+'/Example ESR 1 ctr.mat'\n",
    "fileScan=folder+'/Example scan.mat'\n",
    "filePLtrace=folder+'/Example time trace charac.mat'\n",
    "\n",
    "def headers(obj):\n",
    "    return(list(obj.dtype.fields.keys()))\n",
    "\n",
    "class matFile():\n",
    "    def __init__(self,pathToFile) -> None:\n",
    "        self.matDic=io.loadmat(pathToFile,squeeze_me=True)\n",
    "        self.matKeys=list(self.matDic.keys())\n",
    "        self.path=os.path.abspath(pathToFile)\n",
    "        self.folder=os.path.dirname(pathToFile)\n",
    "        self.fileName=os.path.basename(pathToFile)\n",
    "    def date(self,year=True,month=True,day=True,hour=True,minute=True,seconds=False) -> str:\n",
    "        date=''\n",
    "        monthDir={'Jan':'01','Feb':'02','Mar':'03','Apr':'04','May':'05','Jun':'06','Jul':'07','Aug':'08','Sep':'09','Oct':'10','Nov':'11','Dec':'12'}\n",
    "        matDate=str(self.matDic['__header__']).split('Created on: ')[1][:-1].split()\n",
    "        y=matDate[4]\n",
    "        mo=monthDir[matDate[1]]\n",
    "        d=matDate[2]\n",
    "        h=matDate[3].split(':')[0]\n",
    "        mi=matDate[3].split(':')[1]\n",
    "        s=matDate[3].split(':')[2]\n",
    "        if year :\n",
    "            date+='_'+y\n",
    "        if month :\n",
    "            date+='_'+mo\n",
    "        if day :\n",
    "            date+='_'+d\n",
    "        if hour :\n",
    "            date+='_'+h\n",
    "        if minute :\n",
    "            date+='_'+mi\n",
    "        if seconds :\n",
    "            date+='_'+s\n",
    "        return date[1:]"
   ]
  },
  {
   "cell_type": "code",
   "execution_count": 127,
   "metadata": {},
   "outputs": [],
   "source": [
    "ESR=matFile(fileESR)"
   ]
  },
  {
   "cell_type": "code",
   "execution_count": 128,
   "metadata": {},
   "outputs": [
    {
     "data": {
      "text/plain": [
       "['__header__',\n",
       " '__version__',\n",
       " '__globals__',\n",
       " 'smNVesr',\n",
       " '__function_workspace__']"
      ]
     },
     "execution_count": 128,
     "metadata": {},
     "output_type": "execute_result"
    }
   ],
   "source": [
    "ESR.matKeys"
   ]
  },
  {
   "cell_type": "code",
   "execution_count": 129,
   "metadata": {},
   "outputs": [],
   "source": [
    "sm=ESR.matDic['smNVesr']"
   ]
  },
  {
   "cell_type": "code",
   "execution_count": 130,
   "metadata": {},
   "outputs": [
    {
     "data": {
      "text/plain": [
       "['Status', 'InChannel', 'DAQ', 'Inst', 'Fields', 'AuxInfo']"
      ]
     },
     "execution_count": 130,
     "metadata": {},
     "output_type": "execute_result"
    }
   ],
   "source": [
    "headers(sm)"
   ]
  },
  {
   "cell_type": "code",
   "execution_count": 131,
   "metadata": {},
   "outputs": [],
   "source": [
    "Inchan=sm['InChannel'].item()"
   ]
  },
  {
   "cell_type": "code",
   "execution_count": 132,
   "metadata": {},
   "outputs": [
    {
     "data": {
      "text/plain": [
       "['Name',\n",
       " 'InstName',\n",
       " 'SweepType',\n",
       " 'SweepVals',\n",
       " 'Data',\n",
       " 'DataSquared',\n",
       " 'CW',\n",
       " 'bPlot']"
      ]
     },
     "execution_count": 132,
     "metadata": {},
     "output_type": "execute_result"
    }
   ],
   "source": [
    "headers(Inchan)"
   ]
  },
  {
   "cell_type": "code",
   "execution_count": 133,
   "metadata": {},
   "outputs": [
    {
     "name": "stdout",
     "output_type": "stream",
     "text": [
      "<class 'numpy.ndarray'>\n"
     ]
    }
   ],
   "source": [
    "ctr1=Inchan['Data'][0]\n",
    "print(type(ctr1))"
   ]
  },
  {
   "cell_type": "code",
   "execution_count": 134,
   "metadata": {},
   "outputs": [
    {
     "name": "stdout",
     "output_type": "stream",
     "text": [
      "['Freq', 'Power', 'State']\n"
     ]
    }
   ],
   "source": [
    "CW=Inchan['CW'][0]\n",
    "print(headers(CW))"
   ]
  },
  {
   "cell_type": "code",
   "execution_count": 135,
   "metadata": {},
   "outputs": [
    {
     "name": "stdout",
     "output_type": "stream",
     "text": [
      "-39\n"
     ]
    }
   ],
   "source": [
    "print(CW['Power'])"
   ]
  },
  {
   "cell_type": "code",
   "execution_count": 136,
   "metadata": {},
   "outputs": [
    {
     "name": "stdout",
     "output_type": "stream",
     "text": [
      "['cb_fit', 'cb_norm', 'rb_Gauss', 'rb_Lorentz', 'cb_AutoSave', 'ed_Npeaks', 'ed_smooth_width', 'ed_width_factor']\n"
     ]
    }
   ],
   "source": [
    "fields=sm['Fields'].item()\n",
    "print(headers(fields))"
   ]
  },
  {
   "cell_type": "code",
   "execution_count": 137,
   "metadata": {},
   "outputs": [
    {
     "name": "stdout",
     "output_type": "stream",
     "text": [
      "0\n"
     ]
    }
   ],
   "source": [
    "fit=fields['rb_Lorentz'].item()\n",
    "print(fit)"
   ]
  },
  {
   "cell_type": "code",
   "execution_count": 138,
   "metadata": {},
   "outputs": [
    {
     "name": "stdout",
     "output_type": "stream",
     "text": [
      "['Name', 'CW', 'TypeSelect', 'Sweep']\n"
     ]
    }
   ],
   "source": [
    "Inst=sm['Inst'].item()\n",
    "print(headers(Inst))"
   ]
  },
  {
   "cell_type": "code",
   "execution_count": 139,
   "metadata": {},
   "outputs": [
    {
     "name": "stdout",
     "output_type": "stream",
     "text": [
      "[('RF2 Freq', 'GHz', 1, 1.265, 1.315, 51, 50, 0.01, 0.01, 0.001, 6.075)\n",
      " ('RF2 Power', 'dBm', 1, -110, 16.5, 101, 10, 0.01, 0.01, -110, 16.5)]\n"
     ]
    }
   ],
   "source": [
    "print(Inst['Sweep'])"
   ]
  },
  {
   "cell_type": "code",
   "execution_count": 140,
   "metadata": {},
   "outputs": [
    {
     "name": "stdout",
     "output_type": "stream",
     "text": [
      "['EmptyInChannelStr', 'EmptyDAQStr', 'FigureInd', 'RegChanFigN', 'InstStruct', 'RFStateColors', 'DisableGUIElems', 'Fitpos', 'FitFWHM', 'Fitcontrast', 'FitStruct', 'FitSNR', 'FitResults', 'textLocX', 'textLocY']\n"
     ]
    }
   ],
   "source": [
    "Aux=sm['AuxInfo'].item()\n",
    "print(headers(Aux))"
   ]
  },
  {
   "cell_type": "code",
   "execution_count": 141,
   "metadata": {},
   "outputs": [
    {
     "name": "stdout",
     "output_type": "stream",
     "text": [
      "1.2953402256582618\n",
      "0.010504976534120239\n",
      "5.8613498622969065\n"
     ]
    }
   ],
   "source": [
    "print(Aux['Fitpos'])\n",
    "print(Aux['FitFWHM'])\n",
    "print(Aux['Fitcontrast'])"
   ]
  },
  {
   "cell_type": "code",
   "execution_count": 142,
   "metadata": {},
   "outputs": [
    {
     "name": "stdout",
     "output_type": "stream",
     "text": [
      "['__header__', '__version__', '__globals__', 'smNVscan', '__function_workspace__']\n"
     ]
    }
   ],
   "source": [
    "scan=matFile(fileScan)\n",
    "print(scan.matKeys)"
   ]
  },
  {
   "cell_type": "code",
   "execution_count": 143,
   "metadata": {},
   "outputs": [
    {
     "name": "stdout",
     "output_type": "stream",
     "text": [
      "['Status', 'Scanner', 'Fields', 'AuxInfo', 'Combined']\n"
     ]
    }
   ],
   "source": [
    "sm=scan.matDic['smNVscan']\n",
    "print(headers(sm))"
   ]
  },
  {
   "cell_type": "code",
   "execution_count": 144,
   "metadata": {},
   "outputs": [
    {
     "name": "stdout",
     "output_type": "stream",
     "text": [
      "['fig_num', 'FigureInd', 'h_pn_main', 'h_pb_add_Display', 'h_pb_del_Display', 'h_pn_chan', 'h_axes_2d', 'h_axes_1d', 'h_pm_chan', 'label_chans', 'nchan', 'h_pm_dir', 'ndir', 'h_cb_fit', 'bfit', 'h_ed_fit', 'cfit', 'h_cb_cmin', 'bcmin', 'h_ed_cmin', 'cmin', 'h_cb_cmax', 'bcmax', 'h_ed_cmax', 'cmax', 'numline', 'numpics']\n",
      "fig_num: 3\n",
      "FigureInd: 1021\n",
      "h_pn_main: 0\n",
      "h_pb_add_Display: 0\n",
      "h_pb_del_Display: 0\n",
      "h_pn_chan: [0 0 0]\n",
      "h_axes_2d: [0 0 0]\n",
      "h_axes_1d: [0 0 0]\n",
      "h_pm_chan: [0 0 0]\n",
      "label_chans: []\n",
      "nchan: [1 1 1]\n",
      "h_pm_dir: [0 0 0]\n",
      "ndir: [1 1 1]\n",
      "h_cb_fit: [0 0 0]\n",
      "bfit: [0 0 0]\n",
      "h_ed_fit: [0 0 0]\n",
      "cfit: [1 1 1]\n",
      "h_cb_cmin: [0 0 0]\n",
      "bcmin: [0 0 0]\n",
      "h_ed_cmin: [0 0 0]\n",
      "cmin: [0 0 0]\n",
      "h_cb_cmax: [0 0 0]\n",
      "bcmax: [0 0 0]\n",
      "h_ed_cmax: [0 0 0]\n",
      "cmax: [200 200 200]\n",
      "numline: 1\n",
      "numpics: 1\n"
     ]
    }
   ],
   "source": [
    "combined=sm['Combined'].item()\n",
    "h=headers(combined)\n",
    "print(h)\n",
    "for x in h:\n",
    "    print(x+':',combined[x])"
   ]
  },
  {
   "cell_type": "code",
   "execution_count": 145,
   "metadata": {},
   "outputs": [
    {
     "name": "stdout",
     "output_type": "stream",
     "text": [
      "['Name', 'Channels', 'Position', 'Limits', 'UserCoord', 'Movement', 'Display', 'ScanCreate', 'MoveData', 'ScanData']\n",
      "Name : Sample\n",
      "Channels : ['Sample Vx' 'Sample Vy' 'Sample Vz']\n",
      "Position : [5.875 2.    0.   ]\n",
      "Limits : [[0.  7.5]\n",
      " [0.  7.5]\n",
      " [0.  7.5]]\n",
      "UserCoord : [0.31504 2.2663  0.     ]\n",
      "Movement : (0.008, 3.105610009891701, 4029.166666666662, 0.1, 1)\n"
     ]
    }
   ],
   "source": [
    "scanner=sm['Scanner'].item()\n",
    "h=headers(scanner)\n",
    "print(h)\n",
    "for x in ['Name', 'Channels', 'Position', 'Limits', 'UserCoord', 'Movement']:\n",
    "    print(x,':',scanner[x].item(0))"
   ]
  },
  {
   "cell_type": "code",
   "execution_count": 146,
   "metadata": {},
   "outputs": [
    {
     "name": "stdout",
     "output_type": "stream",
     "text": [
      "['Channel', 'Direc', 'Threshold', 'XRng', 'YRng', 'ZRng', 'bMoveData', 'bScannerLoc', 'bScanData', 'bScanRange', 'bFlatten', 'ViewAngle', 'ViewPatchDirs', 'Handles']\n"
     ]
    }
   ],
   "source": [
    "disp=scanner['Display'].item(0)\n",
    "print(headers(disp))\n",
    "\n"
   ]
  },
  {
   "cell_type": "code",
   "execution_count": 147,
   "metadata": {},
   "outputs": [
    {
     "name": "stdout",
     "output_type": "stream",
     "text": [
      "['scData', 'FileSelect', 'Points', 'Pixels', 'Locations', 'RefreshPoints', 'Smscan', 'N', 'PlotWidth']\n"
     ]
    }
   ],
   "source": [
    "scanCreate=scanner['ScanCreate'].item(0)\n",
    "print(headers(scanCreate))\n"
   ]
  },
  {
   "cell_type": "code",
   "execution_count": 149,
   "metadata": {},
   "outputs": [
    {
     "name": "stdout",
     "output_type": "stream",
     "text": [
      "['ed_xmin', 'ed_xmax', 'ed_nx', 'cb_bFixX', 'ed_ymin', 'ed_ymax', 'ed_ny', 'cb_bFixY', 'ed_zmin', 'ed_zmax', 'ed_nz', 'cb_bFixZ', 'ed_loopOrder', 'ed_theta', 'ed_setRange', 'ed_setNpixels', 'nx', 'ny', 'nz', 'loopOrder']\n",
      "ed_xmin 0\n",
      "ed_xmax 6\n",
      "ed_nx 0\n",
      "cb_bFixX 0\n",
      "ed_ymin 2\n",
      "ed_ymax 6\n",
      "ed_ny 0\n",
      "cb_bFixY 0\n",
      "ed_zmin 0\n",
      "ed_zmax 0\n",
      "ed_nz 0\n",
      "cb_bFixZ 1\n",
      "ed_loopOrder z x y\n",
      "ed_theta 0\n",
      "ed_setRange 0\n",
      "ed_setNpixels 0\n",
      "nx 241\n",
      "ny 161\n",
      "nz 0\n",
      "loopOrder z y x\n"
     ]
    }
   ],
   "source": [
    "scdata=scanCreate['scData'].item()['Fields'].item()\n",
    "h=headers(scdata)\n",
    "print(h)\n",
    "for x in h :\n",
    "    print(x,scdata[x])"
   ]
  },
  {
   "cell_type": "code",
   "execution_count": 150,
   "metadata": {},
   "outputs": [
    {
     "name": "stdout",
     "output_type": "stream",
     "text": [
      "['WriteChans', 'ReadChans', 'Vend', 'Vmove', 'Data', 'Npoints', 'Dt', 'hPlot', 'bIsScan', 'Direc', 'PlotWidth']\n"
     ]
    }
   ],
   "source": [
    "scdata=scanner['MoveData'].item(0)\n",
    "print(headers(scdata))"
   ]
  },
  {
   "cell_type": "code",
   "execution_count": 158,
   "metadata": {},
   "outputs": [
    {
     "name": "stdout",
     "output_type": "stream",
     "text": [
      "['Vz' 'RFFreq' 'RFFreqErr']\n"
     ]
    }
   ],
   "source": [
    "wc=scdata['ReadChans'].item(0)\n",
    "print(wc)"
   ]
  },
  {
   "cell_type": "code",
   "execution_count": 182,
   "metadata": {},
   "outputs": [
    {
     "data": {
      "text/plain": [
       "array([[ 3.19049201e+00,  3.19650573e+00,  3.20432865e+00,\n",
       "         3.18387523e+00,  3.05540802e+00,  3.08328839e+00,\n",
       "         3.09433112e+00,  3.11189686e+00,  3.12107569e+00,\n",
       "         3.13293771e+00,  3.20027261e+00,  3.24996103e+00,\n",
       "         3.23922438e+00,  3.24754746e+00,  3.25443257e+00,\n",
       "         3.24795254e+00,  3.24950254e+00,  3.26009200e+00,\n",
       "         3.26352413e+00,  3.26232582e+00,  3.24799032e+00,\n",
       "         3.26699013e+00,  3.26869382e+00,  3.27189281e+00,\n",
       "         3.27061504e+00,  3.27332818e+00,  3.27321226e+00,\n",
       "         3.27411229e+00,  3.27562582e+00,  3.28068349e+00,\n",
       "         3.28165908e+00,  3.27635393e+00,  3.25774487e+00,\n",
       "         3.28012602e+00,  3.28940905e+00,  3.29135892e+00,\n",
       "         3.28455067e+00,  3.28813129e+00,  3.29024657e+00,\n",
       "         3.29281253e+00,  3.28224521e+00,  3.28683007e+00,\n",
       "         3.30322095e+00,  3.30494678e+00,  3.30810799e+00,\n",
       "         3.30079696e+00,  3.30328607e+00,  3.30871496e+00,\n",
       "         3.29756151e+00,  3.30724833e+00,  3.30845837e+00,\n",
       "         3.31771536e+00,  3.32268185e+00,  3.32208921e+00,\n",
       "         3.32266492e+00,  3.32813419e+00,  3.33002675e+00,\n",
       "         3.32221165e+00,  3.32362748e+00,  3.32476197e+00,\n",
       "         3.33322052e+00,  3.30930891e+00,  3.32608273e+00,\n",
       "         3.33302254e+00,  3.34239415e+00,  3.33839151e+00,\n",
       "         3.33560282e+00,  3.34482595e+00,  3.32085833e+00,\n",
       "         3.30125154e+00,  3.30851307e+00,  3.30942093e+00,\n",
       "         3.32324194e+00,  3.33466631e+00,  3.33771811e+00,\n",
       "         3.35223597e+00,  3.35709957e+00,  3.34729943e+00,\n",
       "         3.32533117e+00,  3.34816560e+00,  3.36121031e+00,\n",
       "         3.36672908e+00,  3.37517590e+00,  3.37939215e+00,\n",
       "         3.38471815e+00,  3.38254294e+00,  3.36876101e+00,\n",
       "         3.36705341e+00,  3.34883640e+00,  3.37380956e+00,\n",
       "         3.39440236e+00,  3.38307046e+00,  3.39184422e+00,\n",
       "         3.39975180e+00,  3.40139818e+00,  3.39844407e+00,\n",
       "         3.39680811e+00,  3.38990347e+00,  3.39340073e+00,\n",
       "         3.40895018e+00,  3.41404042e+00,  3.40042781e+00,\n",
       "         3.39568534e+00,  3.40166911e+00,  3.42060771e+00,\n",
       "         3.38032215e+00,  3.36032590e+00,  3.36130800e+00,\n",
       "         3.35011547e+00,  3.33251586e+00,  3.31571599e+00,\n",
       "         3.29959474e+00,  3.27741808e+00,  3.26847761e+00,\n",
       "         3.25726424e+00,  3.25340749e+00,  3.25885201e+00,\n",
       "         3.25837528e+00,  3.25815907e+00,  3.25977549e+00,\n",
       "         3.25581975e+00,  3.26911063e+00,  3.27035584e+00,\n",
       "         3.26954437e+00,  3.26983092e+00,  3.27322789e+00,\n",
       "         3.27648678e+00,  3.27223016e+00,  3.27791955e+00,\n",
       "         3.27364339e+00,  3.27075180e+00,  3.28125269e+00,\n",
       "         3.27089117e+00,  3.24675163e+00,  3.19661905e+00,\n",
       "         3.21268169e+00,  3.22403573e+00,  3.23238747e+00,\n",
       "         3.24708767e+00,  3.29334917e+00,  3.29399912e+00,\n",
       "         3.28692646e+00,  3.29400303e+00,  3.29828180e+00,\n",
       "         3.29639055e+00,  3.29742865e+00,  3.29644655e+00,\n",
       "         3.29617693e+00,  3.29874289e+00,  3.30499367e+00,\n",
       "         3.30672081e+00,  3.30253061e+00,  3.30374065e+00,\n",
       "         3.30975177e+00,  3.31292730e+00,  3.30503275e+00,\n",
       "         3.30408842e+00,  3.31298852e+00,  3.31733372e+00,\n",
       "         3.32045846e+00,  3.31576679e+00],\n",
       "       [ 1.29523994e+00,  1.29535630e+00,  1.29523554e+00,\n",
       "         1.29516672e+00,  1.29518711e+00,  1.29516211e+00,\n",
       "         1.29515837e+00,  1.29519035e+00,  1.29520235e+00,\n",
       "         1.29522114e+00,  1.29531760e+00,  1.29523852e+00,\n",
       "         1.29534798e+00,  1.29519231e+00,  1.29524131e+00,\n",
       "         1.29522034e+00,  1.29516756e+00,  1.29532730e+00,\n",
       "         1.29517989e+00,  1.29523150e+00,  1.29526922e+00,\n",
       "         1.29523368e+00,  1.29506161e+00,  1.29533124e+00,\n",
       "         1.29525879e+00,  1.29520421e+00,  1.29520341e+00,\n",
       "         1.29525673e+00,  1.29525773e+00,  1.29524322e+00,\n",
       "         1.29525645e+00,  1.29524056e+00,  1.29523922e+00,\n",
       "         1.29529618e+00,  1.29523623e+00,  1.29519629e+00,\n",
       "         1.29513670e+00,  1.29517178e+00,  1.29527708e+00,\n",
       "         1.29518311e+00,  1.29526101e+00,  1.29523061e+00,\n",
       "         1.29523487e+00,  1.29526576e+00,  1.29528940e+00,\n",
       "         1.29523823e+00,  1.29531728e+00,  1.29529885e+00,\n",
       "         1.29537351e+00,  1.29521145e+00,  1.29526435e+00,\n",
       "         1.29532547e+00,  1.29528500e+00,  1.29517337e+00,\n",
       "         1.29519649e+00,  1.29529650e+00,  1.29526208e+00,\n",
       "         1.29509445e+00,  1.29525781e+00,  1.29530459e+00,\n",
       "         1.29511360e+00,  1.29528206e+00,  1.29531856e+00,\n",
       "         1.29530488e+00,  1.29522544e+00,  1.29520042e+00,\n",
       "         1.29526236e+00,  1.29531136e+00,  1.29535602e+00,\n",
       "         1.29530737e+00,  1.29530281e+00,  1.29522419e+00,\n",
       "         1.29534482e+00,  1.29522308e+00,  1.29522723e+00,\n",
       "         1.29522141e+00,  1.29527624e+00,  1.29530781e+00,\n",
       "         1.29521183e+00,  1.29529688e+00,  1.29539558e+00,\n",
       "         1.29528423e+00,  1.29525217e+00,  1.29523783e+00,\n",
       "         1.29523128e+00,  1.29534694e+00,  1.29539159e+00,\n",
       "         1.29535791e+00,  1.29527783e+00,  1.29528193e+00,\n",
       "         1.29529857e+00,  1.29533825e+00,  1.29527719e+00,\n",
       "         1.29520578e+00,  1.29532011e+00,  1.29533051e+00,\n",
       "         1.29535614e+00,  1.29531784e+00,  1.29529531e+00,\n",
       "         1.29519704e+00,  1.29519082e+00,  1.29534173e+00,\n",
       "         1.29530373e+00,  1.29524482e+00,  1.29528837e+00,\n",
       "         1.29518790e+00,  1.29523516e+00,  1.29523952e+00,\n",
       "         1.29515899e+00,  1.29525317e+00,  1.29527711e+00,\n",
       "         1.29527106e+00,  1.29536206e+00,  1.29520505e+00,\n",
       "         1.29521435e+00,  1.29510230e+00,  1.29522920e+00,\n",
       "         1.29530522e+00,  1.29548233e+00,  1.29538537e+00,\n",
       "         1.29538498e+00,  1.29529382e+00,  1.29520778e+00,\n",
       "         1.29525762e+00,  1.29532483e+00,  1.29529389e+00,\n",
       "         1.29532065e+00,  1.29533640e+00,  1.29529555e+00,\n",
       "         1.29531030e+00,  1.29531786e+00,  1.29538543e+00,\n",
       "         1.29527104e+00,  1.29516216e+00,  1.29523989e+00,\n",
       "         1.29529818e+00,  1.29522291e+00,  1.29522828e+00,\n",
       "         1.29523111e+00,  1.29534418e+00,  1.29543050e+00,\n",
       "         1.29536978e+00,  1.29544018e+00,  1.29544908e+00,\n",
       "         1.29539853e+00,  1.29535837e+00,  1.29533431e+00,\n",
       "         1.29524449e+00,  1.29526996e+00,  1.29532588e+00,\n",
       "         1.29532281e+00,  1.29542753e+00,  1.29531684e+00,\n",
       "         1.29525480e+00,  1.29532261e+00,  1.29532865e+00,\n",
       "         1.29537597e+00,  1.29535278e+00,  1.29531146e+00,\n",
       "         1.29532360e+00,  1.29533321e+00],\n",
       "       [-1.91863454e+02,  5.59200803e+02, -7.81389558e+02,\n",
       "        -3.31244980e+01,  4.09526104e+02, -2.80349398e+02,\n",
       "        -1.57028112e+02,  1.48738956e+02, -4.37253012e+02,\n",
       "         5.61136546e+02, -3.98795181e+02,  1.18771084e+02,\n",
       "         5.70293173e+02, -4.75369478e+02,  8.83156627e+02,\n",
       "        -1.99738956e+02,  2.23674699e+02,  3.57614458e+02,\n",
       "        -1.58460241e+03,  8.31606426e+01, -5.12931727e+01,\n",
       "        -2.73783133e+02,  1.54726908e+02,  4.94273092e+02,\n",
       "        -6.71329317e+02,  5.32694779e+02, -3.50947791e+02,\n",
       "         3.75654618e+02, -2.71261044e+02,  1.34293173e+02,\n",
       "         2.04228916e+02, -5.21293173e+02,  6.25991968e+02,\n",
       "        -2.64176707e+02,  4.78658635e+02, -4.97502008e+02,\n",
       "         3.58369478e+02, -2.69253012e+02,  1.54694779e+02,\n",
       "        -7.77457831e+02,  7.66819277e+02, -7.61522088e+02,\n",
       "         5.38907631e+02,  1.51763052e+02,  6.29313253e+02,\n",
       "        -2.88329317e+02,  1.89734940e+02, -7.46345382e+01,\n",
       "        -6.55140562e+01, -3.91863454e+02,  6.58682731e+02,\n",
       "         1.77248996e+02,  1.92722892e+02, -2.05124498e+02,\n",
       "         2.60040161e+02,  1.92008032e+02, -5.12935743e+02,\n",
       "         2.49437751e+01, -3.31465863e+02,  7.15421687e+01,\n",
       "        -1.77469880e+02, -3.37630522e+01,  5.12108434e+02,\n",
       "        -2.70710843e+02, -3.78160643e+02,  3.17265060e+02,\n",
       "        -5.39317269e+01, -3.04337349e+01,  2.44931727e+02,\n",
       "        -1.51510040e+02, -1.85887550e+02,  3.08469880e+02,\n",
       "        -3.86606426e+02, -2.03875502e+02,  4.50843373e+01,\n",
       "        -1.25686747e+02,  2.90771084e+02, -2.67923695e+02,\n",
       "         4.06060241e+02,  8.24289157e+02, -3.00401606e+00,\n",
       "         1.00642570e+01,  6.69016064e+02, -8.98265060e+02,\n",
       "         2.94542169e+02,  2.12453815e+02, -4.03983936e+02,\n",
       "         1.26184739e+01, -6.41164659e+01,  1.36124498e+02,\n",
       "        -2.61052209e+02,  1.35819277e+02, -3.99734940e+02,\n",
       "         2.15702811e+02,  1.52273092e+02, -3.68955823e+02,\n",
       "         3.39855422e+02, -1.02582329e+02, -1.46220884e+02,\n",
       "        -3.31847390e+02,  4.29618474e+02,  4.87662651e+02,\n",
       "        -6.96682731e+02,  3.48718876e+02, -2.13955823e+02,\n",
       "        -2.33092369e+02,  2.60024096e+02, -2.91305221e+02,\n",
       "         1.89614458e+02,  1.39160643e+02, -1.22718876e+02,\n",
       "         3.99044177e+02, -2.95763052e+02, -1.23104418e+02,\n",
       "        -2.14662651e+02,  9.26907631e+01,  2.66389558e+02,\n",
       "         2.17775100e+02, -6.54297189e+01, -3.70240964e+01,\n",
       "         1.93614458e+01, -3.29891566e+02, -7.72650602e+01,\n",
       "         3.24092369e+02, -1.86453815e+02,  1.64698795e+02,\n",
       "         1.59040161e+02, -2.88353414e+01, -1.41265060e+02,\n",
       "        -7.90441767e+01,  2.60654618e+02, -5.55020080e+01,\n",
       "        -2.79891566e+02, -4.52128514e+01,  9.05180723e+01,\n",
       "         1.39518072e+02, -2.11261044e+02,  1.75309237e+02,\n",
       "        -1.97329317e+02,  5.03076305e+02, -2.96068273e+02,\n",
       "         1.40734940e+02,  9.34738956e+01,  2.94939759e+01,\n",
       "        -4.14738956e+02,  3.60052209e+02, -3.48084337e+02,\n",
       "        -1.23674699e+02,  3.62650602e+02, -2.18574297e+02,\n",
       "         5.08546185e+02, -4.72409639e+02, -3.70963855e+01,\n",
       "         2.94698795e+01,  1.13333333e+02, -4.55381526e+01,\n",
       "         6.69236948e+01,  2.60120482e+01, -2.54489960e+02,\n",
       "         9.24899598e+01,  1.97602410e+02]])"
      ]
     },
     "execution_count": 182,
     "metadata": {},
     "output_type": "execute_result"
    }
   ],
   "source": [
    "scdata['Data'][0]"
   ]
  },
  {
   "cell_type": "code",
   "execution_count": 183,
   "metadata": {},
   "outputs": [
    {
     "name": "stdout",
     "output_type": "stream",
     "text": [
      "['transfn', 'loop', 'dt', 'dv', 'bSmooth', 'data', 'displayfn', 'stopfn', 'startfn', 'bBatchJob', 'reserved', 'ns', 'signal', 'green_power', 'channels', 'positioner', 'tag']\n"
     ]
    }
   ],
   "source": [
    "scandata=scanner['ScanData'].item(0)\n",
    "print(headers(scandata))"
   ]
  },
  {
   "cell_type": "code",
   "execution_count": 187,
   "metadata": {},
   "outputs": [
    {
     "data": {
      "text/plain": [
       "['channel', 'dir']"
      ]
     },
     "execution_count": 187,
     "metadata": {},
     "output_type": "execute_result"
    }
   ],
   "source": [
    "data=scandata['data'].item()\n",
    "headers(data)"
   ]
  },
  {
   "cell_type": "code",
   "execution_count": 191,
   "metadata": {},
   "outputs": [
    {
     "data": {
      "text/plain": [
       "['direction', 'data']"
      ]
     },
     "execution_count": 191,
     "metadata": {},
     "output_type": "execute_result"
    }
   ],
   "source": [
    "headers(data['dir'].item(0))"
   ]
  },
  {
   "cell_type": "code",
   "execution_count": 194,
   "metadata": {},
   "outputs": [
    {
     "data": {
      "text/plain": [
       "'forward'"
      ]
     },
     "execution_count": 194,
     "metadata": {},
     "output_type": "execute_result"
    }
   ],
   "source": [
    "data['dir'].item(0)['direction'].item(0)"
   ]
  },
  {
   "cell_type": "code",
   "execution_count": 206,
   "metadata": {},
   "outputs": [
    {
     "data": {
      "text/plain": [
       "array([[3.19049201, 3.19650573, 3.20432865, ..., 3.31733372, 3.32045846,\n",
       "        3.31576679],\n",
       "       [2.84923797, 2.8581081 , 2.87177801, ..., 3.3126655 , 3.31048248,\n",
       "        3.31415688],\n",
       "       [2.70087624, 2.704634  , 2.71349762, ..., 3.11403038, 3.11068552,\n",
       "        3.10929313],\n",
       "       ...,\n",
       "       [       nan,        nan,        nan, ...,        nan,        nan,\n",
       "               nan],\n",
       "       [       nan,        nan,        nan, ...,        nan,        nan,\n",
       "               nan],\n",
       "       [       nan,        nan,        nan, ...,        nan,        nan,\n",
       "               nan]])"
      ]
     },
     "execution_count": 206,
     "metadata": {},
     "output_type": "execute_result"
    }
   ],
   "source": [
    "#i=backard/forward\n",
    "i=0\n",
    "#j=Vz/RFfreq/RFerr\n",
    "j=0\n",
    "data['dir'].item(j)['data'].item(i)"
   ]
  },
  {
   "cell_type": "code",
   "execution_count": null,
   "metadata": {},
   "outputs": [],
   "source": []
  }
 ],
 "metadata": {
  "kernelspec": {
   "display_name": "base",
   "language": "python",
   "name": "python3"
  },
  "language_info": {
   "codemirror_mode": {
    "name": "ipython",
    "version": 3
   },
   "file_extension": ".py",
   "mimetype": "text/x-python",
   "name": "python",
   "nbconvert_exporter": "python",
   "pygments_lexer": "ipython3",
   "version": "3.10.9"
  },
  "orig_nbformat": 4
 },
 "nbformat": 4,
 "nbformat_minor": 2
}
