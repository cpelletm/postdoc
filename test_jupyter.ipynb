{
 "cells": [
  {
   "cell_type": "code",
   "execution_count": 1,
   "metadata": {},
   "outputs": [],
   "source": [
    "import GUI_lib as glib"
   ]
  },
  {
   "cell_type": "code",
   "execution_count": 2,
   "metadata": {},
   "outputs": [],
   "source": [
    "graph=glib.pgFig()"
   ]
  },
  {
   "cell_type": "code",
   "execution_count": 4,
   "metadata": {},
   "outputs": [
    {
     "name": "stdout",
     "output_type": "stream",
     "text": [
      "['AdjustIgnored', 'AdjustToContents', 'AdjustToContentsOnFirstShow', 'AnchorUnderMouse', 'AnchorViewCenter', 'BoundingRectViewportUpdate', 'Box', 'CacheBackground', 'CacheMode', 'CacheModeFlag', 'CacheNone', 'DontAdjustForAntialiasing', 'DontClipPainter', 'DontSavePainterState', 'DragMode', 'DrawChildren', 'DrawWindowBackground', 'FullViewportUpdate', 'HLine', 'IgnoreMask', 'MinimalViewportUpdate', 'NoAnchor', 'NoDrag', 'NoFrame', 'NoViewportUpdate', 'OptimizationFlag', 'OptimizationFlags', 'PaintDeviceMetric', 'Panel', 'PdmDepth', 'PdmDevicePixelRatio', 'PdmDevicePixelRatioScaled', 'PdmDpiX', 'PdmDpiY', 'PdmHeight', 'PdmHeightMM', 'PdmNumColors', 'PdmPhysicalDpiX', 'PdmPhysicalDpiY', 'PdmWidth', 'PdmWidthMM', 'Plain', 'Raised', 'RenderFlag', 'RenderFlags', 'RubberBandDrag', 'ScrollHandDrag', 'Shadow', 'Shadow_Mask', 'Shape', 'Shape_Mask', 'SizeAdjustPolicy', 'SmartViewportUpdate', 'StyleMask', 'StyledPanel', 'Sunken', 'VLine', 'ViewportAnchor', 'ViewportUpdateMode', 'WinPanel', '__class__', '__delattr__', '__dict__', '__dir__', '__doc__', '__eq__', '__format__', '__ge__', '__getattr__', '__getattribute__', '__gt__', '__hash__', '__init__', '__init_subclass__', '__le__', '__lt__', '__module__', '__ne__', '__new__', '__reduce__', '__reduce_ex__', '__repr__', '__setattr__', '__sizeof__', '__str__', '__subclasshook__', '__weakref__', '_background', 'acceptDrops', 'accessibleDescription', 'accessibleName', 'actionEvent', 'actions', 'activateWindow', 'addAction', 'addActions', 'addItem', 'addLabel', 'addLayout', 'addPlot', 'addScrollBarWidget', 'addViewBox', 'adjustSize', 'alignment', 'aspectLocked', 'autoFillBackground', 'autoPixelRange', 'backgroundBrush', 'backgroundRole', 'baseSize', 'blockSignals', 'cacheMode', 'centerOn', 'centralLayout', 'centralWidget', 'changeEvent', 'childAt', 'childEvent', 'children', 'childrenRect', 'childrenRegion', 'ci', 'clear', 'clearFocus', 'clearMask', 'clearMouse', 'clickAccepted', 'close', 'closeEvent', 'closed', 'colorCount', 'connectNotify', 'contentsMargins', 'contentsRect', 'contextMenuEvent', 'contextMenuPolicy', 'cornerWidget', 'create', 'createWindowContainer', 'currentItem', 'cursor', 'customContextMenuRequested', 'customEvent', 'deleteLater', 'depth', 'destroy', 'destroyed', 'devType', 'devicePixelRatio', 'devicePixelRatioF', 'devicePixelRatioFScale', 'disconnect', 'disconnectNotify', 'dragEnterEvent', 'dragLeaveEvent', 'dragMode', 'dragMoveEvent', 'drawBackground', 'drawForeground', 'drawFrame', 'dropEvent', 'dumpObjectInfo', 'dumpObjectTree', 'dynamicPropertyNames', 'effectiveWinId', 'enableMouse', 'ensurePolished', 'ensureVisible', 'enterEvent', 'event', 'eventFilter', 'find', 'findChild', 'findChildren', 'fitInView', 'focusInEvent', 'focusNextChild', 'focusNextPrevChild', 'focusOutEvent', 'focusPolicy', 'focusPreviousChild', 'focusProxy', 'focusWidget', 'font', 'fontInfo', 'fontMetrics', 'foregroundBrush', 'foregroundRole', 'frameGeometry', 'frameRect', 'frameShadow', 'frameShape', 'frameSize', 'frameStyle', 'frameWidth', 'geometry', 'getContentsMargins', 'getItem', 'grab', 'grabGesture', 'grabKeyboard', 'grabMouse', 'grabShortcut', 'graphicsEffect', 'graphicsProxyWidget', 'hasFocus', 'hasHeightForWidth', 'hasMouseTracking', 'hasTabletTracking', 'height', 'heightForWidth', 'heightMM', 'hide', 'hideEvent', 'horizontalScrollBar', 'horizontalScrollBarPolicy', 'inherits', 'initPainter', 'initStyleOption', 'inputMethodEvent', 'inputMethodHints', 'inputMethodQuery', 'insertAction', 'insertActions', 'installEventFilter', 'invalidateScene', 'isActiveWindow', 'isAncestorOf', 'isEnabled', 'isEnabledTo', 'isFullScreen', 'isHidden', 'isInteractive', 'isLeftToRight', 'isMaximized', 'isMinimized', 'isModal', 'isRightToLeft', 'isSignalConnected', 'isTransformed', 'isVisible', 'isVisibleTo', 'isWidgetType', 'isWindow', 'isWindowModified', 'isWindowType', 'itemAt', 'itemIndex', 'items', 'keyPressEvent', 'keyReleaseEvent', 'keyboardGrabber', 'killTimer', 'lastButtonReleased', 'lastFileDir', 'lastMousePos', 'layout', 'layoutDirection', 'leaveEvent', 'lineWidth', 'locale', 'lockXRange', 'lockedViewports', 'logicalDpiX', 'logicalDpiY', 'lower', 'mapFrom', 'mapFromGlobal', 'mapFromParent', 'mapFromScene', 'mapTo', 'mapToGlobal', 'mapToParent', 'mapToScene', 'mask', 'maximumHeight', 'maximumSize', 'maximumViewportSize', 'maximumWidth', 'metaObject', 'metric', 'midLineWidth', 'minimumHeight', 'minimumSize', 'minimumSizeHint', 'minimumWidth', 'mouseDoubleClickEvent', 'mouseEnabled', 'mouseGrabber', 'mouseMoveEvent', 'mousePressEvent', 'mouseReleaseEvent', 'mouseTrail', 'move', 'moveEvent', 'moveToThread', 'nativeEvent', 'nativeParentWidget', 'nextCol', 'nextColumn', 'nextInFocusChain', 'nextRow', 'normalGeometry', 'objectName', 'objectNameChanged', 'optimizationFlags', 'overrideWindowFlags', 'overrideWindowState', 'paintEngine', 'paintEvent', 'paintingActive', 'palette', 'parent', 'parentWidget', 'physicalDpiX', 'physicalDpiY', 'pixelSize', 'pos', 'previousInFocusChain', 'property', 'pyqtConfigure', 'raise_', 'range', 'receivers', 'rect', 'releaseKeyboard', 'releaseMouse', 'releaseShortcut', 'removeAction', 'removeEventFilter', 'removeItem', 'render', 'renderHints', 'repaint', 'resetCachedContent', 'resetTransform', 'resize', 'resizeAnchor', 'resizeEvent', 'restoreGeometry', 'rotate', 'rubberBandChanged', 'rubberBandRect', 'rubberBandSelectionMode', 'saveGeometry', 'scale', 'scaleCenter', 'scaleToImage', 'scene', 'sceneObj', 'sceneRect', 'screen', 'scroll', 'scrollBarWidgets', 'scrollContentsBy', 'sender', 'senderSignalIndex', 'setAcceptDrops', 'setAccessibleDescription', 'setAccessibleName', 'setAlignment', 'setAntialiasing', 'setAspectLocked', 'setAttribute', 'setAutoFillBackground', 'setBackground', 'setBackgroundBrush', 'setBackgroundRole', 'setBaseSize', 'setCacheMode', 'setCentralItem', 'setCentralWidget', 'setContentsMargins', 'setContextMenuPolicy', 'setCornerWidget', 'setCursor', 'setDisabled', 'setDragMode', 'setEnabled', 'setFixedHeight', 'setFixedSize', 'setFixedWidth', 'setFocus', 'setFocusPolicy', 'setFocusProxy', 'setFont', 'setForegroundBrush', 'setForegroundRole', 'setFrameRect', 'setFrameShadow', 'setFrameShape', 'setFrameStyle', 'setGeometry', 'setGraphicsEffect', 'setHidden', 'setHorizontalScrollBar', 'setHorizontalScrollBarPolicy', 'setInputMethodHints', 'setInteractive', 'setLayout', 'setLayoutDirection', 'setLineWidth', 'setLocale', 'setMask', 'setMaximumHeight', 'setMaximumSize', 'setMaximumWidth', 'setMidLineWidth', 'setMinimumHeight', 'setMinimumSize', 'setMinimumWidth', 'setMouseTracking', 'setObjectName', 'setOptimizationFlag', 'setOptimizationFlags', 'setPalette', 'setParent', 'setProperty', 'setRange', 'setRenderHint', 'setRenderHints', 'setResizeAnchor', 'setRubberBandSelectionMode', 'setScene', 'setSceneRect', 'setShortcutAutoRepeat', 'setShortcutEnabled', 'setSizeAdjustPolicy', 'setSizeIncrement', 'setSizePolicy', 'setStatusTip', 'setStyle', 'setStyleSheet', 'setTabOrder', 'setTabletTracking', 'setToolTip', 'setToolTipDuration', 'setTransform', 'setTransformationAnchor', 'setUpdatesEnabled', 'setVerticalScrollBar', 'setVerticalScrollBarPolicy', 'setViewport', 'setViewportMargins', 'setViewportUpdateMode', 'setVisible', 'setWhatsThis', 'setWindowFilePath', 'setWindowFlag', 'setWindowFlags', 'setWindowIcon', 'setWindowIconText', 'setWindowModality', 'setWindowModified', 'setWindowOpacity', 'setWindowRole', 'setWindowState', 'setWindowTitle', 'setXRange', 'setYRange', 'setupViewport', 'sharedPainter', 'shear', 'show', 'showEvent', 'showFullScreen', 'showMaximized', 'showMinimized', 'showNormal', 'sigDeviceRangeChanged', 'sigDeviceTransformChanged', 'sigMouseReleased', 'sigScaleChanged', 'sigSceneMouseMoved', 'signalsBlocked', 'size', 'sizeAdjustPolicy', 'sizeHint', 'sizeIncrement', 'sizePolicy', 'stackUnder', 'startTimer', 'staticMetaObject', 'statusTip', 'style', 'styleSheet', 'tabletEvent', 'testAttribute', 'thread', 'timerEvent', 'toolTip', 'toolTipDuration', 'tr', 'transform', 'transformationAnchor', 'translate', 'underMouse', 'ungrabGesture', 'unsetCursor', 'unsetLayoutDirection', 'unsetLocale', 'update', 'updateGeometry', 'updateMatrix', 'updateMicroFocus', 'updateScene', 'updateSceneRect', 'updatesEnabled', 'useOpenGL', 'verticalScrollBar', 'verticalScrollBarPolicy', 'viewRect', 'viewport', 'viewportEvent', 'viewportMargins', 'viewportSizeHint', 'viewportTransform', 'viewportUpdateMode', 'visibleRange', 'visibleRegion', 'whatsThis', 'wheelEvent', 'width', 'widthMM', 'winId', 'window', 'windowFilePath', 'windowFlags', 'windowHandle', 'windowIcon', 'windowIconChanged', 'windowIconText', 'windowIconTextChanged', 'windowModality', 'windowOpacity', 'windowRole', 'windowState', 'windowTitle', 'windowTitleChanged', 'windowType', 'x', 'y']\n"
     ]
    }
   ],
   "source": [
    "print(dir(graph.widget))"
   ]
  },
  {
   "cell_type": "code",
   "execution_count": 5,
   "metadata": {},
   "outputs": [],
   "source": [
    "ax0=graph.addAx()"
   ]
  },
  {
   "cell_type": "code",
   "execution_count": 6,
   "metadata": {},
   "outputs": [
    {
     "name": "stdout",
     "output_type": "stream",
     "text": [
      "['CacheMode', 'DeviceCoordinateCache', 'GraphicsItemChange', 'GraphicsItemFlag', 'GraphicsItemFlags', 'ItemAcceptsInputMethod', 'ItemChildAddedChange', 'ItemChildRemovedChange', 'ItemClipsChildrenToShape', 'ItemClipsToShape', 'ItemContainsChildrenInShape', 'ItemCoordinateCache', 'ItemCursorChange', 'ItemCursorHasChanged', 'ItemDoesntPropagateOpacityToChildren', 'ItemEnabledChange', 'ItemEnabledHasChanged', 'ItemFlagsChange', 'ItemFlagsHaveChanged', 'ItemHasNoContents', 'ItemIgnoresParentOpacity', 'ItemIgnoresTransformations', 'ItemIsFocusable', 'ItemIsMovable', 'ItemIsPanel', 'ItemIsSelectable', 'ItemMatrixChange', 'ItemNegativeZStacksBehindParent', 'ItemOpacityChange', 'ItemOpacityHasChanged', 'ItemParentChange', 'ItemParentHasChanged', 'ItemPositionChange', 'ItemPositionHasChanged', 'ItemRotationChange', 'ItemRotationHasChanged', 'ItemScaleChange', 'ItemScaleHasChanged', 'ItemSceneChange', 'ItemSceneHasChanged', 'ItemScenePositionHasChanged', 'ItemSelectedChange', 'ItemSelectedHasChanged', 'ItemSendsGeometryChanges', 'ItemSendsScenePositionChanges', 'ItemStacksBehindParent', 'ItemToolTipChange', 'ItemToolTipHasChanged', 'ItemTransformChange', 'ItemTransformHasChanged', 'ItemTransformOriginPointChange', 'ItemTransformOriginPointHasChanged', 'ItemUsesExtendedStyleOption', 'ItemVisibleChange', 'ItemVisibleHasChanged', 'ItemZValueChange', 'ItemZValueHasChanged', 'NoCache', 'NonModal', 'PanelModal', 'PanelModality', 'SceneModal', 'Type', 'UserType', '__class__', '__delattr__', '__dict__', '__dir__', '__doc__', '__eq__', '__format__', '__ge__', '__getattr__', '__getattribute__', '__gt__', '__hash__', '__init__', '__init_subclass__', '__le__', '__lt__', '__module__', '__ne__', '__new__', '__reduce__', '__reduce_ex__', '__repr__', '__setattr__', '__sizeof__', '__str__', '__subclasshook__', '__weakref__', '_boundingRectCache', '_cachedView', '_checkScaleKey', '_chooseFilenameDialog', '_connectedView', '_exportOpts', '_handle_max_traces_toggle', '_menuEnabled', '_painterPathCache', '_pixelVectorCache', '_pixelVectorGlobalCache', '_plotArray', '_plotMetaArray', '_previousGeometry', '_qtBaseClass', '_replaceView', '_resetCachedProperties', '_updateView', '_viewBox', '_viewWidget', 'acceptDrops', 'acceptHoverEvents', 'acceptTouchEvents', 'acceptedMouseButtons', 'actions', 'addAction', 'addActions', 'addAvgCurve', 'addColorBar', 'addItem', 'addLegend', 'addLine', 'addTrace', 'adjustSize', 'advance', 'allChildItems', 'alpha', 'alphaState', 'autoAlpha', 'autoBtn', 'autoBtnClicked', 'autoFillBackground', 'autoRange', 'avgCurves', 'avgParamListClicked', 'avgPen', 'avgShadowPen', 'avgToggled', 'axes', 'blockSignals', 'boundingRect', 'boundingRegion', 'boundingRegionGranularity', 'buttonsHidden', 'cacheMode', 'changeEvent', 'changeParent', 'childEvent', 'childItems', 'children', 'childrenBoundingRect', 'childrenShape', 'clear', 'clearFocus', 'clearPlots', 'clipPath', 'clipToViewMode', 'close', 'closeEvent', 'collidesWithItem', 'collidesWithPath', 'collidingItems', 'commonAncestorItem', 'connectNotify', 'contains', 'contentsRect', 'contextMenuEvent', 'ctrl', 'ctrlMenu', 'cursor', 'curves', 'customEvent', 'data', 'dataItems', 'deleteLater', 'destroyed', 'deviceTransform', 'disableAutoRange', 'disconnect', 'disconnectNotify', 'downsampleMode', 'dragEnterEvent', 'dragLeaveEvent', 'dragMoveEvent', 'dropEvent', 'dumpObjectInfo', 'dumpObjectTree', 'dynamicPropertyNames', 'effectiveOpacity', 'effectiveSizeHint', 'enableAutoRange', 'enabledChanged', 'ensureVisible', 'event', 'eventFilter', 'fig', 'fileDialog', 'filtersChildEvents', 'findChild', 'findChildren', 'fits', 'flags', 'focusInEvent', 'focusItem', 'focusNextPrevChild', 'focusOutEvent', 'focusPolicy', 'focusProxy', 'focusWidget', 'font', 'forgetViewBox', 'forgetViewWidget', 'geometry', 'geometryChanged', 'getAxis', 'getBoundingParents', 'getContentsMargins', 'getContextMenus', 'getLabel', 'getMenu', 'getScale', 'getViewBox', 'getViewWidget', 'getWindowFrameMargins', 'grabGesture', 'grabKeyboard', 'grabKeyboardEvent', 'grabMouse', 'grabMouseEvent', 'grabShortcut', 'graphicsEffect', 'graphicsItem', 'group', 'hasCursor', 'hasFocus', 'height', 'hide', 'hideAxis', 'hideButtons', 'hideEvent', 'hoverEnterEvent', 'hoverEvent', 'hoverLeaveEvent', 'hoverMoveEvent', 'implements', 'infiniteLines', 'informViewBoundsChanged', 'inherits', 'initStyleOption', 'inputMethodEvent', 'inputMethodHints', 'inputMethodQuery', 'insertAction', 'insertActions', 'installEventFilter', 'installSceneEventFilter', 'invertX', 'invertY', 'isActive', 'isActiveWindow', 'isAncestorOf', 'isBlockedByModalPanel', 'isClipped', 'isEnabled', 'isLayout', 'isObscured', 'isObscuredBy', 'isPanel', 'isSelected', 'isSignalConnected', 'isUnderMouse', 'isVisible', 'isVisibleTo', 'isWidget', 'isWidgetType', 'isWindow', 'isWindowType', 'itemChange', 'itemMeta', 'itemTransform', 'items', 'keyPressEvent', 'keyReleaseEvent', 'killTimer', 'lastFileDir', 'layout', 'layoutDirection', 'legend', 'lines', 'listDataItems', 'm', 'mapFromDevice', 'mapFromItem', 'mapFromParent', 'mapFromScene', 'mapFromView', 'mapRectFromDevice', 'mapRectFromItem', 'mapRectFromParent', 'mapRectFromScene', 'mapRectFromView', 'mapRectToDevice', 'mapRectToItem', 'mapRectToParent', 'mapRectToScene', 'mapRectToView', 'mapToDevice', 'mapToItem', 'mapToParent', 'mapToScene', 'mapToView', 'maximumHeight', 'maximumSize', 'maximumWidth', 'menuEnabled', 'metaObject', 'minimumHeight', 'minimumSize', 'minimumWidth', 'mouseDoubleClickEvent', 'mouseHovering', 'mouseMoveEvent', 'mousePressEvent', 'mouseReleaseEvent', 'moveBy', 'moveEvent', 'moveToThread', 'nextPenIndex', 'objectName', 'objectNameChanged', 'opacity', 'opacityChanged', 'opaqueArea', 'ownedByLayout', 'paint', 'paintWindowFrame', 'palette', 'panel', 'panelModality', 'paramList', 'parent', 'parentChanged', 'parentItem', 'parentLayoutItem', 'parentObject', 'parentWidget', 'penIndices', 'pixelHeight', 'pixelLength', 'pixelSize', 'pixelVectors', 'pixelWidth', 'plot', 'pointMode', 'polishEvent', 'pos', 'preferredHeight', 'preferredSize', 'preferredWidth', 'prepareGeometryChange', 'property', 'pyqtConfigure', 'receivers', 'recomputeAverages', 'rect', 'register', 'registerPlot', 'releaseShortcut', 'removeAction', 'removeEventFilter', 'removeItem', 'removeLine', 'removeSceneEventFilter', 'removeTrace', 'replot', 'resetTransform', 'resize', 'resizeEvent', 'restoreState', 'rotation', 'rotationChanged', 'saveState', 'scale', 'scaleChanged', 'scatterPlot', 'scene', 'sceneBoundingRect', 'sceneEvent', 'sceneEventFilter', 'scenePos', 'sceneTransform', 'scroll', 'sender', 'senderSignalIndex', 'setAcceptDrops', 'setAcceptHoverEvents', 'setAcceptTouchEvents', 'setAcceptedMouseButtons', 'setActive', 'setAspectLocked', 'setAttribute', 'setAutoFillBackground', 'setAutoPan', 'setAutoVisible', 'setAxisItems', 'setBoundingRegionGranularity', 'setCacheMode', 'setClipToView', 'setContentsMargins', 'setCursor', 'setData', 'setDefaultPadding', 'setDownsampling', 'setEnabled', 'setExportMode', 'setFiltersChildEvents', 'setFixedHeight', 'setFixedWidth', 'setFlag', 'setFlags', 'setFocus', 'setFocusPolicy', 'setFocusProxy', 'setFont', 'setGeometry', 'setGraphicsEffect', 'setGraphicsItem', 'setGroup', 'setInputMethodHints', 'setLabel', 'setLabels', 'setLayout', 'setLayoutDirection', 'setLimits', 'setLogMode', 'setMaximumHeight', 'setMaximumSize', 'setMaximumWidth', 'setMenuEnabled', 'setMinimumHeight', 'setMinimumSize', 'setMinimumWidth', 'setMouseEnabled', 'setObjectName', 'setOpacity', 'setOwnedByLayout', 'setPalette', 'setPanelModality', 'setParent', 'setParentItem', 'setParentLayoutItem', 'setPos', 'setPreferredHeight', 'setPreferredSize', 'setPreferredWidth', 'setProperty', 'setRange', 'setRotation', 'setScale', 'setSelected', 'setShortcutAutoRepeat', 'setShortcutEnabled', 'setSizePolicy', 'setStyle', 'setTabOrder', 'setTitle', 'setToolTip', 'setTransform', 'setTransformOriginPoint', 'setTransformations', 'setVisible', 'setWindowFlags', 'setWindowFrameMargins', 'setWindowTitle', 'setX', 'setXLink', 'setXRange', 'setY', 'setYLink', 'setYRange', 'setZValue', 'shape', 'show', 'showAxes', 'showAxis', 'showButtons', 'showEvent', 'showGrid', 'showLabel', 'sigRangeChanged', 'sigXRangeChanged', 'sigYRangeChanged', 'signalsBlocked', 'size', 'sizeHint', 'sizePolicy', 'spectrumMode', 'stackBefore', 'startTimer', 'stateGroup', 'staticMetaObject', 'style', 'subMenus', 'testAttribute', 'thread', 'timerEvent', 'titleLabel', 'toGraphicsObject', 'toolTip', 'topLevelItem', 'topLevelWidget', 'tr', 'traces', 'transform', 'transformAngle', 'transformOriginPoint', 'transformations', 'type', 'ungrabGesture', 'ungrabKeyboard', 'ungrabKeyboardEvent', 'ungrabMouse', 'ungrabMouseEvent', 'unregister', 'unsetCursor', 'unsetLayoutDirection', 'unsetWindowFrameMargins', 'update', 'updateAlpha', 'updateButtons', 'updateDecimation', 'updateDerivativeMode', 'updateDownsampling', 'updateGeometry', 'updateGrid', 'updateLogMode', 'updateMicroFocus', 'updateParamList', 'updatePhasemapMode', 'updateSpectrumMode', 'vb', 'viewChanged', 'viewGeometry', 'viewPos', 'viewRange', 'viewRangeChanged', 'viewRect', 'viewStateChanged', 'viewTransform', 'viewTransformChanged', 'visibleChanged', 'wheelEvent', 'widgetGroupInterface', 'width', 'window', 'windowFlags', 'windowFrameEvent', 'windowFrameGeometry', 'windowFrameRect', 'windowFrameSectionAt', 'windowTitle', 'windowType', 'writeCsv', 'writeImage', 'writeSvg', 'writeSvgCurves', 'x', 'xChanged', 'y', 'yChanged', 'zChanged', 'zValue']\n"
     ]
    }
   ],
   "source": [
    "print(dir(ax0))"
   ]
  },
  {
   "cell_type": "code",
   "execution_count": 7,
   "metadata": {},
   "outputs": [
    {
     "name": "stdout",
     "output_type": "stream",
     "text": [
      "['ArrowItem', 'AxisItem', 'BarGraphItem', 'BusyCursor', 'ButtonItem', 'CIELabColor', 'CONFIG_OPTIONS', 'CheckTable', 'CircleROI', 'Color', 'ColorBarItem', 'ColorButton', 'ColorMap', 'ColorMapParameter', 'ColorMapWidget', 'ComboBox', 'CrosshairROI', 'CurveArrow', 'CurvePoint', 'DataFilterWidget', 'DataTreeWidget', 'DateAxisItem', 'DiffTreeWidget', 'EllipseROI', 'ErrorBarItem', 'FeedbackButton', 'FileDialog', 'FillBetweenItem', 'GradientEditorItem', 'GradientLegend', 'GradientWidget', 'GraphItem', 'GraphicsItem', 'GraphicsLayout', 'GraphicsLayoutWidget', 'GraphicsObject', 'GraphicsScene', 'GraphicsView', 'GraphicsWidget', 'GraphicsWidgetAnchor', 'GridItem', 'GroupBox', 'HistogramLUTItem', 'HistogramLUTWidget', 'ImageItem', 'ImageView', 'InfLineLabel', 'InfiniteLine', 'IsocurveItem', 'ItemGroup', 'ItemSample', 'JoystickButton', 'LabelItem', 'LayoutWidget', 'LegendItem', 'LineROI', 'LineSegmentROI', 'LinearRegionItem', 'MetaArray', 'MultiLineROI', 'MultiPlotItem', 'MultiPlotWidget', 'MultiRectROI', 'PColorMeshItem', 'PathButton', 'PlotCurveItem', 'PlotDataItem', 'PlotItem', 'PlotWidget', 'Point', 'PolyLineROI', 'ProgressDialog', 'QAPP', 'Qt', 'QtCore', 'QtGui', 'QtWidgets', 'ROI', 'RawImageWidget', 'RectROI', 'RemoteGraphicsView', 'SRTTransform', 'SRTTransform3D', 'ScaleBar', 'ScatterPlotItem', 'ScatterPlotWidget', 'SignalBlock', 'SignalProxy', 'SpinBox', 'SpotItem', 'TableWidget', 'TargetItem', 'TargetLabel', 'TestROI', 'TextItem', 'ThreadsafeTimer', 'TickSliderItem', 'Transform3D', 'TreeWidget', 'TreeWidgetItem', 'TriangleROI', 'UIGraphicsItem', 'VTickGroup', 'ValueLabel', 'Vector', 'VerticalLabel', 'ViewBox', 'WidgetGroup', '__builtins__', '__cached__', '__doc__', '__file__', '__loader__', '__name__', '__package__', '__path__', '__spec__', '__version__', '_cleanupCalled', '_cleanupConnected', '_connectCleanup', 'affineSlice', 'affineSliceCoords', 'applyLookupTable', 'arrayToQPath', 'atexit', 'cleanup', 'clip_array', 'clip_scalar', 'colorCIELab', 'colorDistance', 'colorStr', 'colorToAlpha', 'colorTuple', 'colormap', 'colors', 'dbg', 'debug', 'disconnect', 'downsample', 'eq', 'exec', 'exit', 'functions', 'gaussianFilter', 'getConfigOption', 'getCupy', 'glColor', 'graphicsItems', 'hsvColor', 'icons', 'image', 'imageToArray', 'images', 'imageview', 'importlib', 'intColor', 'interpolateArray', 'interweaveArrays', 'invertQTransform', 'isQObjectAlive', 'isocurve', 'isosurface', 'makeARGB', 'makeArrowPath', 'makeQImage', 'makeRGBA', 'metaarray', 'mkBrush', 'mkColor', 'mkPen', 'mkQApp', 'multiprocess', 'numpy', 'os', 'palette', 'parametertree', 'path', 'plot', 'plots', 'pseudoScatter', 'reload', 'renamePyc', 'rescaleData', 'setConfigOption', 'setConfigOptions', 'setPalette', 'show', 'siApply', 'siEval', 'siFormat', 'siParse', 'siScale', 'solve3DTransform', 'solveBilinearTransform', 'stack', 'subArray', 'sys', 'systemInfo', 'toposort', 'traceImage', 'transformCoordinates', 'transformToArray', 'useOpenGL', 'util', 'widgets']\n"
     ]
    }
   ],
   "source": [
    "import pyqtgraph as pg\n",
    "print(dir(pg))"
   ]
  },
  {
   "cell_type": "code",
   "execution_count": 8,
   "metadata": {},
   "outputs": [],
   "source": [
    "import numpy as np"
   ]
  },
  {
   "cell_type": "code",
   "execution_count": 9,
   "metadata": {},
   "outputs": [],
   "source": [
    "x=np.linspace(0,10,100)\n",
    "y=np.sin(x)"
   ]
  },
  {
   "cell_type": "code",
   "execution_count": 10,
   "metadata": {},
   "outputs": [],
   "source": [
    "l1=ax0.addLine(x,y)"
   ]
  },
  {
   "cell_type": "code",
   "execution_count": 13,
   "metadata": {},
   "outputs": [
    {
     "name": "stdout",
     "output_type": "stream",
     "text": [
      "['CacheMode', 'DeviceCoordinateCache', 'GraphicsItemChange', 'GraphicsItemFlag', 'GraphicsItemFlags', 'ItemAcceptsInputMethod', 'ItemChildAddedChange', 'ItemChildRemovedChange', 'ItemClipsChildrenToShape', 'ItemClipsToShape', 'ItemContainsChildrenInShape', 'ItemCoordinateCache', 'ItemCursorChange', 'ItemCursorHasChanged', 'ItemDoesntPropagateOpacityToChildren', 'ItemEnabledChange', 'ItemEnabledHasChanged', 'ItemFlagsChange', 'ItemFlagsHaveChanged', 'ItemHasNoContents', 'ItemIgnoresParentOpacity', 'ItemIgnoresTransformations', 'ItemIsFocusable', 'ItemIsMovable', 'ItemIsPanel', 'ItemIsSelectable', 'ItemMatrixChange', 'ItemNegativeZStacksBehindParent', 'ItemOpacityChange', 'ItemOpacityHasChanged', 'ItemParentChange', 'ItemParentHasChanged', 'ItemPositionChange', 'ItemPositionHasChanged', 'ItemRotationChange', 'ItemRotationHasChanged', 'ItemScaleChange', 'ItemScaleHasChanged', 'ItemSceneChange', 'ItemSceneHasChanged', 'ItemScenePositionHasChanged', 'ItemSelectedChange', 'ItemSelectedHasChanged', 'ItemSendsGeometryChanges', 'ItemSendsScenePositionChanges', 'ItemStacksBehindParent', 'ItemToolTipChange', 'ItemToolTipHasChanged', 'ItemTransformChange', 'ItemTransformHasChanged', 'ItemTransformOriginPointChange', 'ItemTransformOriginPointHasChanged', 'ItemUsesExtendedStyleOption', 'ItemVisibleChange', 'ItemVisibleHasChanged', 'ItemZValueChange', 'ItemZValueHasChanged', 'NoCache', 'NonModal', 'PanelModal', 'PanelModality', 'SceneModal', 'Type', 'UserType', '__class__', '__delattr__', '__dict__', '__dir__', '__doc__', '__eq__', '__format__', '__ge__', '__getattr__', '__getattribute__', '__gt__', '__hash__', '__init__', '__init_subclass__', '__le__', '__lt__', '__module__', '__ne__', '__new__', '__reduce__', '__reduce_ex__', '__repr__', '__setattr__', '__sizeof__', '__str__', '__subclasshook__', '__weakref__', '_adjustSize', '_boundingRectCache', '_cachedView', '_connectedView', '_exportOpts', '_linkToView_internal', '_linkedView', '_painterPathCache', '_pen', '_pixelVectorCache', '_pixelVectorGlobalCache', '_previousGeometry', '_qtBaseClass', '_replaceView', '_resetCachedProperties', '_textPen', '_tickLevels', '_tickPen', '_tickSpacing', '_updateHeight', '_updateLabel', '_updateMaxTextSize', '_updateView', '_updateWidth', '_viewBox', '_viewWidget', 'acceptDrops', 'acceptHoverEvents', 'acceptTouchEvents', 'acceptedMouseButtons', 'actions', 'addAction', 'addActions', 'adjustSize', 'advance', 'allChildItems', 'autoFillBackground', 'autoSIPrefix', 'autoSIPrefixScale', 'blockSignals', 'boundingRect', 'boundingRegion', 'boundingRegionGranularity', 'cacheMode', 'changeEvent', 'changeParent', 'childEvent', 'childItems', 'children', 'childrenBoundingRect', 'childrenShape', 'clearFocus', 'clipPath', 'close', 'closeEvent', 'collidesWithItem', 'collidesWithPath', 'collidingItems', 'commonAncestorItem', 'connectNotify', 'contains', 'contentsRect', 'contextMenuEvent', 'cursor', 'customEvent', 'data', 'deleteLater', 'destroyed', 'deviceTransform', 'disconnect', 'disconnectNotify', 'dragEnterEvent', 'dragLeaveEvent', 'dragMoveEvent', 'drawPicture', 'dropEvent', 'dumpObjectInfo', 'dumpObjectTree', 'dynamicPropertyNames', 'effectiveOpacity', 'effectiveSizeHint', 'enableAutoSIPrefix', 'enabledChanged', 'ensureVisible', 'event', 'eventFilter', 'filtersChildEvents', 'findChild', 'findChildren', 'fixedHeight', 'fixedWidth', 'flags', 'focusInEvent', 'focusItem', 'focusNextPrevChild', 'focusOutEvent', 'focusPolicy', 'focusProxy', 'focusWidget', 'font', 'forgetViewBox', 'forgetViewWidget', 'generateDrawSpecs', 'geometry', 'geometryChanged', 'getBoundingParents', 'getContentsMargins', 'getContextMenus', 'getViewBox', 'getViewWidget', 'getWindowFrameMargins', 'grabGesture', 'grabKeyboard', 'grabKeyboardEvent', 'grabMouse', 'grabMouseEvent', 'grabShortcut', 'graphicsEffect', 'graphicsItem', 'grid', 'group', 'hasCursor', 'hasFocus', 'height', 'hide', 'hideEvent', 'hoverEnterEvent', 'hoverLeaveEvent', 'hoverMoveEvent', 'informViewBoundsChanged', 'inherits', 'initStyleOption', 'inputMethodEvent', 'inputMethodHints', 'inputMethodQuery', 'insertAction', 'insertActions', 'installEventFilter', 'installSceneEventFilter', 'isActive', 'isActiveWindow', 'isAncestorOf', 'isBlockedByModalPanel', 'isClipped', 'isEnabled', 'isLayout', 'isObscured', 'isObscuredBy', 'isPanel', 'isSelected', 'isSignalConnected', 'isUnderMouse', 'isVisible', 'isVisibleTo', 'isWidget', 'isWidgetType', 'isWindow', 'isWindowType', 'itemChange', 'itemTransform', 'keyPressEvent', 'keyReleaseEvent', 'killTimer', 'label', 'labelString', 'labelStyle', 'labelText', 'labelUnitPrefix', 'labelUnits', 'layout', 'layoutDirection', 'linkToView', 'linkedView', 'linkedViewChanged', 'logMode', 'logTickStrings', 'logTickValues', 'mapFromDevice', 'mapFromItem', 'mapFromParent', 'mapFromScene', 'mapFromView', 'mapRectFromDevice', 'mapRectFromItem', 'mapRectFromParent', 'mapRectFromScene', 'mapRectFromView', 'mapRectToDevice', 'mapRectToItem', 'mapRectToParent', 'mapRectToScene', 'mapRectToView', 'mapToDevice', 'mapToItem', 'mapToParent', 'mapToScene', 'mapToView', 'maximumHeight', 'maximumSize', 'maximumWidth', 'metaObject', 'minimumHeight', 'minimumSize', 'minimumWidth', 'mouseClickEvent', 'mouseDoubleClickEvent', 'mouseDragEvent', 'mouseMoveEvent', 'mousePressEvent', 'mouseReleaseEvent', 'moveBy', 'moveEvent', 'moveToThread', 'objectName', 'objectNameChanged', 'opacity', 'opacityChanged', 'opaqueArea', 'orientation', 'ownedByLayout', 'paint', 'paintWindowFrame', 'palette', 'panel', 'panelModality', 'parent', 'parentChanged', 'parentItem', 'parentLayoutItem', 'parentObject', 'parentWidget', 'pen', 'picture', 'pixelHeight', 'pixelLength', 'pixelSize', 'pixelVectors', 'pixelWidth', 'polishEvent', 'pos', 'preferredHeight', 'preferredSize', 'preferredWidth', 'prepareGeometryChange', 'property', 'pyqtConfigure', 'range', 'receivers', 'rect', 'releaseShortcut', 'removeAction', 'removeEventFilter', 'removeSceneEventFilter', 'resetTransform', 'resize', 'resizeEvent', 'rotation', 'rotationChanged', 'scale', 'scaleChanged', 'scene', 'sceneBoundingRect', 'sceneEvent', 'sceneEventFilter', 'scenePos', 'sceneTransform', 'scroll', 'sender', 'senderSignalIndex', 'setAcceptDrops', 'setAcceptHoverEvents', 'setAcceptTouchEvents', 'setAcceptedMouseButtons', 'setActive', 'setAttribute', 'setAutoFillBackground', 'setBoundingRegionGranularity', 'setCacheMode', 'setContentsMargins', 'setCursor', 'setData', 'setEnabled', 'setExportMode', 'setFiltersChildEvents', 'setFixedHeight', 'setFixedWidth', 'setFlag', 'setFlags', 'setFocus', 'setFocusPolicy', 'setFocusProxy', 'setFont', 'setGeometry', 'setGraphicsEffect', 'setGraphicsItem', 'setGrid', 'setGroup', 'setHeight', 'setInputMethodHints', 'setLabel', 'setLayout', 'setLayoutDirection', 'setLogMode', 'setMaximumHeight', 'setMaximumSize', 'setMaximumWidth', 'setMinimumHeight', 'setMinimumSize', 'setMinimumWidth', 'setObjectName', 'setOpacity', 'setOwnedByLayout', 'setPalette', 'setPanelModality', 'setParent', 'setParentItem', 'setParentLayoutItem', 'setPen', 'setPos', 'setPreferredHeight', 'setPreferredSize', 'setPreferredWidth', 'setProperty', 'setRange', 'setRotation', 'setScale', 'setSelected', 'setShortcutAutoRepeat', 'setShortcutEnabled', 'setSizePolicy', 'setStyle', 'setTabOrder', 'setTextPen', 'setTickFont', 'setTickPen', 'setTickSpacing', 'setTicks', 'setToolTip', 'setTransform', 'setTransformOriginPoint', 'setTransformations', 'setVisible', 'setWidth', 'setWindowFlags', 'setWindowFrameMargins', 'setWindowTitle', 'setX', 'setY', 'setZValue', 'shape', 'show', 'showEvent', 'showLabel', 'signalsBlocked', 'size', 'sizeHint', 'sizePolicy', 'stackBefore', 'startTimer', 'staticMetaObject', 'style', 'testAttribute', 'textHeight', 'textPen', 'textWidth', 'thread', 'tickPen', 'tickSpacing', 'tickStrings', 'tickValues', 'timerEvent', 'toGraphicsObject', 'toolTip', 'topLevelItem', 'topLevelWidget', 'tr', 'transform', 'transformAngle', 'transformOriginPoint', 'transformations', 'type', 'ungrabGesture', 'ungrabKeyboard', 'ungrabKeyboardEvent', 'ungrabMouse', 'ungrabMouseEvent', 'unlinkFromView', 'unsetCursor', 'unsetLayoutDirection', 'unsetWindowFrameMargins', 'update', 'updateAutoSIPrefix', 'updateGeometry', 'updateMicroFocus', 'viewChanged', 'viewPos', 'viewRangeChanged', 'viewRect', 'viewTransform', 'viewTransformChanged', 'visibleChanged', 'wheelEvent', 'width', 'window', 'windowFlags', 'windowFrameEvent', 'windowFrameGeometry', 'windowFrameRect', 'windowFrameSectionAt', 'windowTitle', 'windowType', 'x', 'xChanged', 'y', 'yChanged', 'zChanged', 'zValue']\n"
     ]
    }
   ],
   "source": [
    "axis=ax0.getAxis('bottom')\n",
    "print(dir(axis))"
   ]
  },
  {
   "cell_type": "code",
   "execution_count": 14,
   "metadata": {},
   "outputs": [
    {
     "name": "stdout",
     "output_type": "stream",
     "text": [
      "setter 2\n"
     ]
    }
   ],
   "source": [
    "class testClass:\n",
    "        def __init__(self):\n",
    "            self.prop=1\n",
    "        @property\n",
    "        def prop(self):\n",
    "            return self._prop\n",
    "        @prop.setter\n",
    "        def prop(self,value):\n",
    "            print('setter 1')\n",
    "            self._prop=value\n",
    "\n",
    "        @prop.setter\n",
    "        def prop(self,value):\n",
    "            print('setter 2')\n",
    "            self._prop=value\n",
    "t=testClass()"
   ]
  },
  {
   "cell_type": "code",
   "execution_count": 15,
   "metadata": {},
   "outputs": [
    {
     "name": "stdout",
     "output_type": "stream",
     "text": [
      "setter 2\n"
     ]
    }
   ],
   "source": [
    "t.prop=2"
   ]
  },
  {
   "cell_type": "code",
   "execution_count": 17,
   "metadata": {},
   "outputs": [
    {
     "name": "stdout",
     "output_type": "stream",
     "text": [
      "setter 2\n"
     ]
    }
   ],
   "source": [
    "setattr(t,'prop',3)"
   ]
  },
  {
   "cell_type": "code",
   "execution_count": 18,
   "metadata": {},
   "outputs": [],
   "source": [
    "setattr(t,'prop2',4)"
   ]
  },
  {
   "cell_type": "code",
   "execution_count": 19,
   "metadata": {},
   "outputs": [],
   "source": [
    "def get_prop2(self):\n",
    "    return self._prop2\n",
    "def set_prop2(self,value):\n",
    "    print('setter 3')\n",
    "    self._prop2=value\n",
    "setattr(t,'prop2',property(get_prop2,set_prop2))"
   ]
  },
  {
   "cell_type": "code",
   "execution_count": 20,
   "metadata": {},
   "outputs": [],
   "source": [
    "t.prop2=5"
   ]
  },
  {
   "cell_type": "code",
   "execution_count": 21,
   "metadata": {},
   "outputs": [
    {
     "name": "stdout",
     "output_type": "stream",
     "text": [
      "setter 2\n"
     ]
    }
   ],
   "source": [
    "t.prop=3"
   ]
  },
  {
   "cell_type": "code",
   "execution_count": 23,
   "metadata": {},
   "outputs": [
    {
     "name": "stdout",
     "output_type": "stream",
     "text": [
      "setter 1\n"
     ]
    }
   ],
   "source": [
    "class testClass2:\n",
    "    def __init__(self):\n",
    "        self.prop=1\n",
    "    def prop_getter(self):\n",
    "        return self._prop\n",
    "    def prop_setter(self,value):\n",
    "        print('setter 1')\n",
    "        self._prop=value\n",
    "\n",
    "    prop=property(prop_getter,prop_setter)\n",
    "t=testClass2()\n"
   ]
  },
  {
   "cell_type": "code",
   "execution_count": 24,
   "metadata": {},
   "outputs": [],
   "source": [
    "def get_prop2(self):\n",
    "    return self._prop2\n",
    "def set_prop2(self,value):\n",
    "    print('setter 3')\n",
    "    self._prop2=value\n",
    "setattr(t,'prop2',property(get_prop2,set_prop2))"
   ]
  },
  {
   "cell_type": "code",
   "execution_count": 25,
   "metadata": {},
   "outputs": [
    {
     "name": "stdout",
     "output_type": "stream",
     "text": [
      "<property object at 0x0000023458B9A890>\n"
     ]
    }
   ],
   "source": [
    "print(t.prop2)"
   ]
  },
  {
   "cell_type": "code",
   "execution_count": 26,
   "metadata": {},
   "outputs": [],
   "source": [
    "t.prop2=5"
   ]
  },
  {
   "cell_type": "code",
   "execution_count": 27,
   "metadata": {},
   "outputs": [
    {
     "name": "stdout",
     "output_type": "stream",
     "text": [
      "['__abs__', '__add__', '__and__', '__bool__', '__ceil__', '__class__', '__delattr__', '__dir__', '__divmod__', '__doc__', '__eq__', '__float__', '__floor__', '__floordiv__', '__format__', '__ge__', '__getattribute__', '__getnewargs__', '__gt__', '__hash__', '__index__', '__init__', '__init_subclass__', '__int__', '__invert__', '__le__', '__lshift__', '__lt__', '__mod__', '__mul__', '__ne__', '__neg__', '__new__', '__or__', '__pos__', '__pow__', '__radd__', '__rand__', '__rdivmod__', '__reduce__', '__reduce_ex__', '__repr__', '__rfloordiv__', '__rlshift__', '__rmod__', '__rmul__', '__ror__', '__round__', '__rpow__', '__rrshift__', '__rshift__', '__rsub__', '__rtruediv__', '__rxor__', '__setattr__', '__sizeof__', '__str__', '__sub__', '__subclasshook__', '__truediv__', '__trunc__', '__xor__', 'as_integer_ratio', 'bit_count', 'bit_length', 'conjugate', 'denominator', 'from_bytes', 'imag', 'numerator', 'real', 'to_bytes']\n"
     ]
    }
   ],
   "source": [
    "print(dir(t.prop2))"
   ]
  },
  {
   "cell_type": "code",
   "execution_count": 28,
   "metadata": {},
   "outputs": [
    {
     "name": "stdout",
     "output_type": "stream",
     "text": [
      "setter 1\n",
      "setter 3\n"
     ]
    }
   ],
   "source": [
    "testClass2.prop2=property(get_prop2,set_prop2)\n",
    "t=testClass2()\n",
    "t.prop2=5"
   ]
  },
  {
   "cell_type": "code",
   "execution_count": null,
   "metadata": {},
   "outputs": [],
   "source": []
  }
 ],
 "metadata": {
  "kernelspec": {
   "display_name": "qspy",
   "language": "python",
   "name": "python3"
  },
  "language_info": {
   "codemirror_mode": {
    "name": "ipython",
    "version": 3
   },
   "file_extension": ".py",
   "mimetype": "text/x-python",
   "name": "python",
   "nbconvert_exporter": "python",
   "pygments_lexer": "ipython3",
   "version": "3.10.8"
  },
  "orig_nbformat": 4
 },
 "nbformat": 4,
 "nbformat_minor": 2
}
